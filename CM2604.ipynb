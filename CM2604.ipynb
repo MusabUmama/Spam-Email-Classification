{
  "nbformat": 4,
  "nbformat_minor": 0,
  "metadata": {
    "colab": {
      "provenance": []
    },
    "kernelspec": {
      "name": "python3",
      "display_name": "Python 3"
    },
    "language_info": {
      "name": "python"
    }
  },
  "cells": [
    {
      "cell_type": "markdown",
      "source": [
        "**Data Preparation**"
      ],
      "metadata": {
        "id": "Alax8B9Or3zz"
      }
    },
    {
      "cell_type": "code",
      "source": [
        "#importing pandas library\n",
        "import pandas as pd\n",
        "\n",
        "#loading the dataset\n",
        "data = pd.read_csv('https://archive.ics.uci.edu/ml/machine-learning-databases/spambase/spambase.data')"
      ],
      "metadata": {
        "id": "eT2CchKdsELs"
      },
      "execution_count": 1,
      "outputs": []
    },
    {
      "cell_type": "code",
      "source": [
        "#spliting the dataset into features as x and labels as y\n",
        "x = data.iloc[:, :-1]\n",
        "y = data.iloc[:, -1]"
      ],
      "metadata": {
        "id": "Z6fnQDPOsit-"
      },
      "execution_count": 2,
      "outputs": []
    },
    {
      "cell_type": "code",
      "source": [
        "#importing the train test split function\n",
        "from sklearn.model_selection import train_test_split\n",
        "\n",
        "#spliting the dataset to training and testing data\n",
        "x_train, x_test, y_train, y_test = train_test_split(x, y, test_size=0.3, random_state=42)"
      ],
      "metadata": {
        "id": "ieDBVQhbtLWK"
      },
      "execution_count": 3,
      "outputs": []
    },
    {
      "cell_type": "markdown",
      "source": [
        "**Model implementation**"
      ],
      "metadata": {
        "id": "Pk0MGPSquEpP"
      }
    },
    {
      "cell_type": "markdown",
      "source": [
        "# *KNN Model*"
      ],
      "metadata": {
        "id": "R7VkeRQiuTaB"
      }
    },
    {
      "cell_type": "markdown",
      "source": [
        "Scaling the data"
      ],
      "metadata": {
        "id": "Jxx_wPBDvUBf"
      }
    },
    {
      "cell_type": "code",
      "source": [
        "#importing stadard scaler function\n",
        "from sklearn.preprocessing import StandardScaler\n",
        "\n",
        "scaler = StandardScaler()\n",
        "x_train_scale = scaler.fit_transform(x_train)\n",
        "x_test_scale = scaler.fit_transform(x_test)"
      ],
      "metadata": {
        "id": "Sp74P9VhuJwX"
      },
      "execution_count": 4,
      "outputs": []
    },
    {
      "cell_type": "markdown",
      "source": [
        "Fitting the KNN model to training data"
      ],
      "metadata": {
        "id": "OEnkAYoy1nd-"
      }
    },
    {
      "cell_type": "code",
      "source": [
        "#importing KNeighbors classifier\n",
        "from sklearn.neighbors import KNeighborsClassifier\n",
        "\n",
        "KNN = KNeighborsClassifier()\n",
        "KNN.fit(x_train_scale, y_train)"
      ],
      "metadata": {
        "colab": {
          "base_uri": "https://localhost:8080/"
        },
        "id": "LLc5JzWH1vwH",
        "outputId": "15b7eb01-d94f-4160-bcff-d7de88da95df"
      },
      "execution_count": 5,
      "outputs": [
        {
          "output_type": "execute_result",
          "data": {
            "text/plain": [
              "KNeighborsClassifier()"
            ]
          },
          "metadata": {},
          "execution_count": 5
        }
      ]
    },
    {
      "cell_type": "markdown",
      "source": [
        "Predicting the labels of test data"
      ],
      "metadata": {
        "id": "oLj_y_BA3uoS"
      }
    },
    {
      "cell_type": "code",
      "source": [
        "y_predict = KNN.predict(x_test_scale)"
      ],
      "metadata": {
        "id": "xTMdKngM31PT"
      },
      "execution_count": 6,
      "outputs": []
    },
    {
      "cell_type": "markdown",
      "source": [
        "# *Decision Trees Model*"
      ],
      "metadata": {
        "id": "omqvJVH04FYj"
      }
    },
    {
      "cell_type": "markdown",
      "source": [
        "Fitting the Decision trees model to training data"
      ],
      "metadata": {
        "id": "C3UlPrZg4M50"
      }
    },
    {
      "cell_type": "code",
      "source": [
        "#importing Decision tree classifier\n",
        "from sklearn.tree import DecisionTreeClassifier\n",
        "\n",
        "DT = DecisionTreeClassifier()\n",
        "DT.fit(x_train, y_train)"
      ],
      "metadata": {
        "colab": {
          "base_uri": "https://localhost:8080/"
        },
        "id": "hY07WW4b4f_2",
        "outputId": "00c414fc-9f6f-431e-86bd-ab4286c6bfe7"
      },
      "execution_count": 7,
      "outputs": [
        {
          "output_type": "execute_result",
          "data": {
            "text/plain": [
              "DecisionTreeClassifier()"
            ]
          },
          "metadata": {},
          "execution_count": 7
        }
      ]
    },
    {
      "cell_type": "markdown",
      "source": [
        "Predicting the labels of test data"
      ],
      "metadata": {
        "id": "nhlGjZ9x5Uys"
      }
    },
    {
      "cell_type": "code",
      "source": [
        "y_PREDICT = DT.predict(x_test) "
      ],
      "metadata": {
        "id": "XmcIUjcc5Zws"
      },
      "execution_count": 9,
      "outputs": []
    }
  ]
}